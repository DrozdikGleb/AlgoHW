{
 "cells": [
  {
   "cell_type": "code",
   "execution_count": 1,
   "metadata": {},
   "outputs": [],
   "source": [
    "from one_dimensional_search import dichotomy, golden_ratio, exhaustive\n",
    "from math import sin"
   ]
  },
  {
   "cell_type": "code",
   "execution_count": 2,
   "metadata": {},
   "outputs": [],
   "source": [
    "methods = [exhaustive, dichotomy, golden_ratio]"
   ]
  },
  {
   "cell_type": "code",
   "execution_count": 3,
   "metadata": {},
   "outputs": [],
   "source": [
    "def get_method_name(method):\n",
    "    return method.__name__"
   ]
  },
  {
   "cell_type": "code",
   "execution_count": 4,
   "metadata": {},
   "outputs": [],
   "source": [
    "def cube_x(x):\n",
    "    return pow(x, 3)\n",
    "\n",
    "def module_x(x):\n",
    "    return abs(x - 0.2)\n",
    "\n",
    "def sin_f(x):\n",
    "    return x * sin(1 / x)"
   ]
  },
  {
   "cell_type": "code",
   "execution_count": 5,
   "metadata": {},
   "outputs": [],
   "source": [
    "def get_min_and_steps_num(method, func, left, right):\n",
    "    min_x, steps_num = method(func, left, right)\n",
    "    print(get_method_name(method))\n",
    "    return round(func(min_x), 5), round(min_x, 5), steps_num"
   ]
  },
  {
   "cell_type": "code",
   "execution_count": 6,
   "metadata": {},
   "outputs": [
    {
     "name": "stdout",
     "output_type": "stream",
     "text": [
      "exhaustive\n",
      "(0, 0, 1010)\n",
      "dichotomy\n",
      "(0.0, 0.00046, 12)\n",
      "golden_ratio\n",
      "(0.0, 0.0, 25)\n"
     ]
    }
   ],
   "source": [
    "# x ^ 3\n",
    "for method in methods:\n",
    "    print(get_min_and_steps_num(method, cube_x, 0, 1))"
   ]
  },
  {
   "cell_type": "code",
   "execution_count": 7,
   "metadata": {},
   "outputs": [
    {
     "name": "stdout",
     "output_type": "stream",
     "text": [
      "exhaustive\n",
      "(0.0, 0.2, 1010)\n",
      "dichotomy\n",
      "(3e-05, 0.20003, 12)\n",
      "golden_ratio\n",
      "(0.0, 0.2, 25)\n"
     ]
    }
   ],
   "source": [
    "# |x - 0.2|\n",
    "for method in methods:\n",
    "    print(get_min_and_steps_num(method, module_x, 0, 1))"
   ]
  },
  {
   "cell_type": "code",
   "execution_count": 8,
   "metadata": {},
   "outputs": [
    {
     "name": "stdout",
     "output_type": "stream",
     "text": [
      "exhaustive\n",
      "(-0.21723, 0.22285, 1000)\n",
      "dichotomy\n",
      "(-0.21723, 0.22252, 12)\n",
      "golden_ratio\n",
      "(-0.21723, 0.22255, 25)\n"
     ]
    }
   ],
   "source": [
    "# x * sin (1 / x)\n",
    "for method in methods:\n",
    "    print(get_min_and_steps_num(method, sin_f, 0.01, 1))"
   ]
  },
  {
   "cell_type": "code",
   "execution_count": null,
   "metadata": {},
   "outputs": [],
   "source": []
  }
 ],
 "metadata": {
  "kernelspec": {
   "display_name": "Python 3",
   "language": "python",
   "name": "python3"
  },
  "language_info": {
   "codemirror_mode": {
    "name": "ipython",
    "version": 3
   },
   "file_extension": ".py",
   "mimetype": "text/x-python",
   "name": "python",
   "nbconvert_exporter": "python",
   "pygments_lexer": "ipython3",
   "version": "3.8.5"
  }
 },
 "nbformat": 4,
 "nbformat_minor": 4
}
